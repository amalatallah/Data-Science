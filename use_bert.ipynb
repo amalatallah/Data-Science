{
 "cells": [
  {
   "cell_type": "code",
   "execution_count": 8,
   "id": "77493f30",
   "metadata": {},
   "outputs": [],
   "source": [
    "import tensorflow as tf \n",
    "import numpy as np  \n",
    "import ktrain \n",
    "from ktrain import text\n",
    "import pickle\n",
    "import pandas as pd "
   ]
  },
  {
   "cell_type": "code",
   "execution_count": 14,
   "id": "e9beae4e",
   "metadata": {},
   "outputs": [
    {
     "data": {
      "text/plain": [
       "26709"
      ]
     },
     "execution_count": 14,
     "metadata": {},
     "output_type": "execute_result"
    }
   ],
   "source": [
    "data =  pd.read_csv(\"new.csv\")\n",
    "max_len = 27\n",
    "num_words= 26709\n",
    "len(data)"
   ]
  },
  {
   "cell_type": "code",
   "execution_count": 30,
   "id": "d6977f99",
   "metadata": {
    "scrolled": false
   },
   "outputs": [
    {
     "name": "stdout",
     "output_type": "stream",
     "text": [
      "['not_is_sarcastic', 'is_sarcastic']\n",
      "       not_is_sarcastic  is_sarcastic\n",
      "17610               0.0           1.0\n",
      "21524               0.0           1.0\n",
      "7600                0.0           1.0\n",
      "21826               1.0           0.0\n",
      "8459                1.0           0.0\n",
      "['not_is_sarcastic', 'is_sarcastic']\n",
      "       not_is_sarcastic  is_sarcastic\n",
      "3385                1.0           0.0\n",
      "18432               1.0           0.0\n",
      "10408               1.0           0.0\n",
      "14565               1.0           0.0\n",
      "15659               0.0           1.0\n",
      "preprocessing train...\n",
      "language: en\n",
      "done. 1/1 :                                                                                                 \n",
      "Is Multi-Label? False\n",
      "preprocessing test...\n",
      "language: en\n",
      "done. 1/1 :                                                                                               \n"
     ]
    }
   ],
   "source": [
    "(x_train, y_train), (x_test, y_test), preproc= text.texts_from_df(data, \n",
    "                                                         text_column= \"headline\", \n",
    "                                                         label_columns=[\"is_sarcastic\"], \n",
    "                                                         preprocess_mode = \"bert\", \n",
    "                                                         maxlen=max_len,)"
   ]
  },
  {
   "cell_type": "code",
   "execution_count": 33,
   "id": "1f13d41f",
   "metadata": {},
   "outputs": [
    {
     "name": "stdout",
     "output_type": "stream",
     "text": [
      "Is Multi-Label? False\n",
      "maxlen is 27\n"
     ]
    },
    {
     "name": "stderr",
     "output_type": "stream",
     "text": [
      "D:\\jupyter_file\\anaconda3\\lib\\site-packages\\keras\\initializers\\initializers_v2.py:120: UserWarning: The initializer GlorotNormal is unseeded and being called multiple times, which will return identical values  each time (even if the initializer is unseeded). Please update your code to provide a seed to the initializer, or avoid using the same initalizer instance more than once.\n",
      "  warnings.warn(\n"
     ]
    },
    {
     "name": "stdout",
     "output_type": "stream",
     "text": [
      "done.\n"
     ]
    }
   ],
   "source": [
    "model = text.text_classifier(name= \"bert\", \n",
    "                             train_data=(x_train, y_train), \n",
    "                             preproc=preproc)"
   ]
  },
  {
   "cell_type": "code",
   "execution_count": 37,
   "id": "b8e18268",
   "metadata": {},
   "outputs": [],
   "source": [
    "learner =  ktrain.get_learner(model= model, \n",
    "                              train_data= (x_train, y_train), \n",
    "                              val_data=(x_test, y_test),\n",
    "                              batch_size= 12 )"
   ]
  },
  {
   "cell_type": "code",
   "execution_count": 38,
   "id": "93dde024",
   "metadata": {},
   "outputs": [
    {
     "name": "stdout",
     "output_type": "stream",
     "text": [
      "\n",
      "\n",
      "begin training using onecycle policy with max lr of 2e-05...\n",
      "2004/2004 [==============================] - 3602s 2s/step - loss: 0.2652 - accuracy: 0.8865 - val_loss: 0.1834 - val_accuracy: 0.9304\n"
     ]
    },
    {
     "data": {
      "text/plain": [
       "<keras.callbacks.History at 0x1b71f12fe50>"
      ]
     },
     "execution_count": 38,
     "metadata": {},
     "output_type": "execute_result"
    }
   ],
   "source": [
    "learner.fit_onecycle(lr=2e-5, epochs=1)"
   ]
  },
  {
   "cell_type": "code",
   "execution_count": 41,
   "id": "0e0e7b2e",
   "metadata": {},
   "outputs": [
    {
     "name": "stdout",
     "output_type": "stream",
     "text": [
      "84/84 [==============================] - 72s 815ms/step\n"
     ]
    }
   ],
   "source": [
    "y_pred = learner.predict(val_data=(x_test[:100], y_test[:100]))"
   ]
  },
  {
   "cell_type": "code",
   "execution_count": 42,
   "id": "58968ca4",
   "metadata": {},
   "outputs": [
    {
     "data": {
      "text/plain": [
       "array([[0.99571145, 0.0042886 ],\n",
       "       [0.997474  , 0.00252598],\n",
       "       [0.9983931 , 0.00160687],\n",
       "       [0.99605185, 0.00394815],\n",
       "       [0.0221748 , 0.9778252 ],\n",
       "       [0.99676776, 0.00323219],\n",
       "       [0.99417406, 0.00582594],\n",
       "       [0.99001104, 0.00998893],\n",
       "       [0.92974967, 0.07025026],\n",
       "       [0.2927761 , 0.7072239 ]], dtype=float32)"
      ]
     },
     "execution_count": 42,
     "metadata": {},
     "output_type": "execute_result"
    }
   ],
   "source": [
    "y_pred[:10]"
   ]
  },
  {
   "cell_type": "code",
   "execution_count": 43,
   "id": "55429124",
   "metadata": {},
   "outputs": [
    {
     "data": {
      "text/plain": [
       "array([[1., 0.],\n",
       "       [1., 0.],\n",
       "       [1., 0.],\n",
       "       [1., 0.],\n",
       "       [0., 1.],\n",
       "       [1., 0.],\n",
       "       [1., 0.],\n",
       "       [1., 0.],\n",
       "       [1., 0.],\n",
       "       [1., 0.]], dtype=float32)"
      ]
     },
     "execution_count": 43,
     "metadata": {},
     "output_type": "execute_result"
    }
   ],
   "source": [
    "y_test[:10]"
   ]
  },
  {
   "cell_type": "code",
   "execution_count": 77,
   "id": "20f0e59f",
   "metadata": {},
   "outputs": [
    {
     "name": "stdout",
     "output_type": "stream",
     "text": [
      "84/84 [==============================] - 68s 808ms/step\n",
      "              precision    recall  f1-score   support\n",
      "\n",
      "           0       0.93      0.95      0.94      1503\n",
      "           1       0.93      0.90      0.92      1168\n",
      "\n",
      "    accuracy                           0.93      2671\n",
      "   macro avg       0.93      0.93      0.93      2671\n",
      "weighted avg       0.93      0.93      0.93      2671\n",
      "\n"
     ]
    },
    {
     "data": {
      "text/plain": [
       "array([[1428,   75],\n",
       "       [ 111, 1057]], dtype=int64)"
      ]
     },
     "execution_count": 77,
     "metadata": {},
     "output_type": "execute_result"
    }
   ],
   "source": [
    "learner.validate(val_data=(x_test, y_test))"
   ]
  },
  {
   "cell_type": "code",
   "execution_count": 89,
   "id": "10ca4bd3",
   "metadata": {},
   "outputs": [
    {
     "name": "stdout",
     "output_type": "stream",
     "text": [
      "1/1 [==============================] - 0s 125ms/step\n",
      "the prediction is is_sarcastic\n",
      "the real is is_sarcastic\n"
     ]
    }
   ],
   "source": [
    "index = 20\n",
    "a = data.iloc[index,0]\n",
    "predictor = ktrain.get_predictor(learner.model, preproc)\n",
    "\n",
    "print(f\"the prediction is {predictor.predict(a)}\")\n",
    "if data.iloc[index,1] == 0 : \n",
    "    print(f\"the real is not_is_sarcastic\")\n",
    "else : \n",
    "    print(f\"the real is is_sarcastic\")\n",
    "    "
   ]
  },
  {
   "cell_type": "code",
   "execution_count": 85,
   "id": "7f6952e0",
   "metadata": {},
   "outputs": [
    {
     "data": {
      "text/plain": [
       "array([0., 1.], dtype=float32)"
      ]
     },
     "execution_count": 85,
     "metadata": {},
     "output_type": "execute_result"
    }
   ],
   "source": [
    "y_train[0]"
   ]
  },
  {
   "cell_type": "code",
   "execution_count": null,
   "id": "f2fd685c",
   "metadata": {},
   "outputs": [],
   "source": []
  }
 ],
 "metadata": {
  "kernelspec": {
   "display_name": "Python 3 (ipykernel)",
   "language": "python",
   "name": "python3"
  },
  "language_info": {
   "codemirror_mode": {
    "name": "ipython",
    "version": 3
   },
   "file_extension": ".py",
   "mimetype": "text/x-python",
   "name": "python",
   "nbconvert_exporter": "python",
   "pygments_lexer": "ipython3",
   "version": "3.9.12"
  }
 },
 "nbformat": 4,
 "nbformat_minor": 5
}
